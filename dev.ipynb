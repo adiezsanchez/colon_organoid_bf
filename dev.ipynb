{
 "cells": [
  {
   "cell_type": "code",
   "execution_count": 61,
   "metadata": {},
   "outputs": [
    {
     "data": {
      "text/plain": [
       "<Intel(R) UHD Graphics 630 on Platform: Intel(R) OpenCL HD Graphics (2 refs)>"
      ]
     },
     "execution_count": 61,
     "metadata": {},
     "output_type": "execute_result"
    }
   ],
   "source": [
    "from utils import read_images, save_min_projection_imgs\n",
    "from skimage import io, color\n",
    "import numpy as np\n",
    "import napari\n",
    "import pyclesperanto_prototype as cle\n",
    "from skimage import morphology\n",
    "from skimage import io, morphology\n",
    "from skimage.color import rgb2gray\n",
    "import numpy as np\n",
    "\n",
    "# Select a GPU with the following in the name. This will fallback to any other GPU if none with this name is found\n",
    "cle.select_device('RTX')"
   ]
  },
  {
   "cell_type": "code",
   "execution_count": 62,
   "metadata": {},
   "outputs": [],
   "source": [
    "images_per_well = read_images(\"./data/COLOR_4x_optimal_DoF.2024-02-13-15-22-50\")"
   ]
  },
  {
   "cell_type": "code",
   "execution_count": 63,
   "metadata": {},
   "outputs": [],
   "source": [
    "save_min_projection_imgs(images_per_well)"
   ]
  },
  {
   "cell_type": "code",
   "execution_count": 64,
   "metadata": {},
   "outputs": [],
   "source": [
    "# Load the image\n",
    "image_path = './output/MIN_projections/A01.tif'\n",
    "image = io.imread(image_path)"
   ]
  },
  {
   "cell_type": "code",
   "execution_count": 65,
   "metadata": {},
   "outputs": [],
   "source": [
    "# Load the image\n",
    "image_path = './output/MIN_projections/A01.tif'\n",
    "image = io.imread(image_path)\n",
    "\n",
    "# Convert to grayscale\n",
    "image_gray = color.rgb2gray(image)\n",
    "\n",
    "# Rescale to 0-255 and convert to uint8\n",
    "image_gray_uint8 = (image_gray * 255).astype(np.uint8)\n",
    "\n",
    "# Tophat filtering\n",
    "result_image = None\n",
    "radius = 20\n",
    "inverted_image = 255 - image_gray_uint8\n",
    "img_gpu = cle.push(inverted_image)\n",
    "\n",
    "result_image = cle.top_hat_box(img_gpu, result_image, radius_x=radius, radius_y=radius)\n",
    "result_image_cle = cle.pull(result_image)\n",
    "\n",
    "square_kernel = morphology.square(radius)\n",
    "result_image_scikit = morphology.white_tophat(inverted_image, footprint=square_kernel)"
   ]
  },
  {
   "cell_type": "code",
   "execution_count": 66,
   "metadata": {},
   "outputs": [
    {
     "data": {
      "text/plain": [
       "<Image layer 'scikit20' at 0x1922cb8faf0>"
      ]
     },
     "execution_count": 66,
     "metadata": {},
     "output_type": "execute_result"
    }
   ],
   "source": [
    "viewer = napari.Viewer(ndisplay=2)\n",
    "viewer.add_image(image, name=f\"input\")\n",
    "viewer.add_image(image_gray, name=f\"gray_float\")\n",
    "viewer.add_image(image_gray_uint8, name=f\"gray_uint8\")\n",
    "viewer.add_image(result_image_cle, name=f\"cle-box\")\n",
    "viewer.add_image(result_image_scikit, name=f\"scikit{radius}\")"
   ]
  }
 ],
 "metadata": {
  "kernelspec": {
   "display_name": "microglia",
   "language": "python",
   "name": "python3"
  },
  "language_info": {
   "codemirror_mode": {
    "name": "ipython",
    "version": 3
   },
   "file_extension": ".py",
   "mimetype": "text/x-python",
   "name": "python",
   "nbconvert_exporter": "python",
   "pygments_lexer": "ipython3",
   "version": "3.9.18"
  }
 },
 "nbformat": 4,
 "nbformat_minor": 2
}
